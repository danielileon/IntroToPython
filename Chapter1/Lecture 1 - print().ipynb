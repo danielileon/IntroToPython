{
 "cells": [
  {
   "cell_type": "markdown",
   "id": "fa6e9398",
   "metadata": {},
   "source": [
    "# Lecture 1: print()\n",
    "\n",
    "Use this link to access the lecture in your web browser: https://colab.research.google.com/drive/1dPtP0aOg91FBbNg2-Kk5lqZxFlSoVGiB?usp=sharing"
   ]
  },
  {
   "cell_type": "markdown",
   "id": "ce706219",
   "metadata": {},
   "source": [
    "Welcome to Intro to Python! Throughout these lectures, we will look at the fundamentals of Python in order to develop essential programming skills."
   ]
  },
  {
   "cell_type": "markdown",
   "id": "7b18f233",
   "metadata": {},
   "source": [
    "## print()"
   ]
  },
  {
   "cell_type": "markdown",
   "id": "2513471b",
   "metadata": {},
   "source": [
    "Let's start with a classic. In the following text box, write\n",
    "\n",
    "    print(\"Hello World!\")\n",
    "\n",
    "Then, press the \"Run\" button (the play icon) or press the keys shift+enter to run the print() statement."
   ]
  },
  {
   "cell_type": "code",
   "execution_count": null,
   "id": "0f4f3e74",
   "metadata": {},
   "outputs": [],
   "source": []
  },
  {
   "cell_type": "markdown",
   "id": "6c75a932",
   "metadata": {},
   "source": [
    "Congrats! You have written your first Python program. But what did we just do?\n",
    "\n",
    "The print() function takes what is within the quotes, and displays it as output. Run the following code block and observe that the output reflects the input to the print() functions."
   ]
  },
  {
   "cell_type": "code",
   "execution_count": 1,
   "id": "09ae131e",
   "metadata": {},
   "outputs": [],
   "source": [
    "print('            ___        ___   __           ___')\n",
    "print('\\        / |    |     /     /  \\  |\\  /| |   ')\n",
    "print(' \\  /\\  /  |___ |    |     |    | | \\/ | |___')\n",
    "print('  \\/  \\/   |___ |___  \\___  \\__/  |    | |___')"
   ]
  },
  {
   "cell_type": "markdown",
   "id": "acfee26b",
   "metadata": {},
   "source": [
    "Also notice that we used double quotes in the first code block, but single quotes in the second. This does not make a significant difference, but you must close the expression with the same kind of quotes.\n",
    "\n",
    "You may want to use different quotes depending on the contents of the input. Run the following code block and observe the error that the first produces. Then run the next code block, and observe how it avoids this error."
   ]
  },
  {
   "cell_type": "code",
   "execution_count": 2,
   "id": "c3512b8b",
   "metadata": {},
   "outputs": [],
   "source": [
    "print('This is John's coffee')"
   ]
  },
  {
   "cell_type": "code",
   "execution_count": 3,
   "id": "1c9729dc",
   "metadata": {},
   "outputs": [],
   "source": [
    "print(\"This is John's coffee\")"
   ]
  },
  {
   "cell_type": "markdown",
   "id": "ab4398ab",
   "metadata": {},
   "source": [
    "Notice that the single quote in the word \"John's\" caused the program to crash, because it assumed our expression ended with the apostrophe after \"John\" instead of with \"coffee\". Now, look at the second block where this problem is avoided by using double quotes to start and finish the expression.\n",
    "\n",
    "We can also add a \\ before the apostrophe (as shown below) in order to tell the computer that the apostrophe should not end the expression. We call the \\ here an __escape character__."
   ]
  },
  {
   "cell_type": "code",
   "execution_count": 4,
   "id": "16b9e62f",
   "metadata": {},
   "outputs": [],
   "source": [
    "print('This is John\\'s coffee')"
   ]
  },
  {
   "cell_type": "markdown",
   "id": "4ae656f9",
   "metadata": {},
   "source": [
    "There are numerous ways we can choose to print multiple lines. In some cases, we may write several print() statements, and the output of each print() statement will appear on separate lines.\n",
    "\n",
    "However, we can also use the __newline character__, '\\n'. Run the following two code blocks, and observe that the output is identical."
   ]
  },
  {
   "cell_type": "code",
   "execution_count": 5,
   "id": "db34beed",
   "metadata": {},
   "outputs": [],
   "source": [
    "print(\"This is the first line\")\n",
    "print(\"This is the second line\")"
   ]
  },
  {
   "cell_type": "code",
   "execution_count": 6,
   "id": "45fbcaf4",
   "metadata": {},
   "outputs": [],
   "source": [
    "print(\"This is the first line\\nThis is the second line\")"
   ]
  },
  {
   "cell_type": "markdown",
   "id": "bf8f4d4a",
   "metadata": {},
   "source": [
    "In this case, it is preferable to use the first code block because it is more readable. However, the newline character is essential to programming in many languages, and sometimes it is better to use it.\n",
    "\n",
    "Now, add your favorite quote about learning below using print() statements. Play around with the format (with a new line, without it, adding spaces, etc), and observe how the differences you make affect the output.\n",
    "\n",
    "For example, you could print\n",
    "    \"Sometimes it's better to leave something alone, to pause,\n",
    "    and that's very true of programming.\"\n",
    "\t\t\t\t\t-- Joyce Wheeler\n",
    "\n",
    "However, be sure to look out for errors with the use of quotes!\n",
    "\n",
    "Extra: Try adding an empty line in your code between print() statements. So instead of\n",
    "\n",
    "    print(...)\n",
    "    print(...)\n",
    "\n",
    "try\n",
    "\n",
    "    print(...)\n",
    "    \n",
    "    print(...)\n",
    "    \n",
    "Is there a difference in the output? What do you think this says about Python's interpretation of empty lines of code? What reasons might there be for this functionality?"
   ]
  },
  {
   "cell_type": "code",
   "execution_count": null,
   "id": "c1246326",
   "metadata": {},
   "outputs": [],
   "source": []
  },
  {
   "cell_type": "markdown",
   "id": "70510c9a",
   "metadata": {},
   "source": [
    "Congrats! You now know how to produce output using print() statements in Python. In the next lecture, we will observe the different data types that Python supports."
   ]
  }
 ],
 "metadata": {
  "kernelspec": {
   "display_name": "Python 3 (ipykernel)",
   "language": "python",
   "name": "python3"
  },
  "language_info": {
   "codemirror_mode": {
    "name": "ipython",
    "version": 3
   },
   "file_extension": ".py",
   "mimetype": "text/x-python",
   "name": "python",
   "nbconvert_exporter": "python",
   "pygments_lexer": "ipython3",
   "version": "3.10.6"
  }
 },
 "nbformat": 4,
 "nbformat_minor": 5
}
